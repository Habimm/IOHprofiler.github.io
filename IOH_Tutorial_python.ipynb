{
  "nbformat": 4,
  "nbformat_minor": 0,
  "metadata": {
    "colab": {
      "name": "IOH_Tutorial.ipynb",
      "provenance": [],
      "collapsed_sections": []
    },
    "kernelspec": {
      "name": "python3",
      "display_name": "Python 3"
    },
    "language_info": {
      "name": "python"
    }
  },
  "cells": [
    {
      "cell_type": "markdown",
      "source": [
        "This is the tutorial for the IOHexperimenter (python version). The full tutorial can also be found at: https://iohprofiler.github.io/IOHexp/python/\n",
        "\n",
        "\n"
      ],
      "metadata": {
        "id": "WRzrz6-DrW_O"
      }
    },
    {
      "cell_type": "markdown",
      "source": [
        "## Basic installation"
      ],
      "metadata": {
        "id": "UOtRDWfvsO1Z"
      }
    },
    {
      "cell_type": "markdown",
      "source": [
        "This package can be installed directly from pip, using:\n"
      ],
      "metadata": {
        "id": "uXFiXYKssKJG"
      }
    },
    {
      "cell_type": "code",
      "execution_count": 4,
      "metadata": {
        "colab": {
          "base_uri": "https://localhost:8080/"
        },
        "id": "iE7KHCTUoVCo",
        "outputId": "d37f36d0-0a3a-4263-bd5b-61109f7b6b54"
      },
      "outputs": [
        {
          "output_type": "stream",
          "name": "stdout",
          "text": [
            "Requirement already satisfied: ioh in /usr/local/lib/python3.7/dist-packages (0.3.2.7)\n"
          ]
        }
      ],
      "source": [
        "pip install ioh"
      ]
    },
    {
      "cell_type": "markdown",
      "source": [
        "## Accessing problems"
      ],
      "metadata": {
        "id": "KNEcolWbsR3a"
      }
    },
    {
      "cell_type": "code",
      "source": [
        "from ioh import get_problem"
      ],
      "metadata": {
        "id": "0RPZbG7FoaTk"
      },
      "execution_count": 5,
      "outputs": []
    },
    {
      "cell_type": "code",
      "source": [
        "#View docstring of get_problem\n",
        "?get_problem"
      ],
      "metadata": {
        "id": "HO0Bl7kqrpaD"
      },
      "execution_count": 6,
      "outputs": []
    },
    {
      "cell_type": "markdown",
      "source": [
        "Based on this, you can then access a problem, for example from the 'BBOB' suite of continuous problems:"
      ],
      "metadata": {
        "id": "opsk2tVZr5bG"
      }
    },
    {
      "cell_type": "code",
      "source": [
        "#Create a function object, either by giving the function id from within the suite\n",
        "f = get_problem(7, dimension=5, instance=1, problem_type = 'BBOB')\n",
        "\n",
        "#Or by giving the function name\n",
        "f2 = get_problem(\"Sphere\", dimension=5, instance=1)"
      ],
      "metadata": {
        "id": "9UxfuaA3rpcL"
      },
      "execution_count": null,
      "outputs": []
    },
    {
      "cell_type": "markdown",
      "source": [
        "This problem contains a meta-data attributes, which consists of many standard properties, such as number_of_variables (dimension), name,..."
      ],
      "metadata": {
        "id": "iIoq0MMar7Ba"
      }
    },
    {
      "cell_type": "code",
      "source": [
        "#Print some properties of the function\n",
        "print(f.meta_data)"
      ],
      "metadata": {
        "id": "AcFg9vTzrpeZ"
      },
      "execution_count": null,
      "outputs": []
    },
    {
      "cell_type": "markdown",
      "source": [
        "Additionally, the problem contains information on its bounds / conditions\n"
      ],
      "metadata": {
        "id": "SuPDSjH1r_ZH"
      }
    },
    {
      "cell_type": "code",
      "source": [
        "#Access the box-constrains for this function\n",
        "f.constraint.lb, f.constraint.ub"
      ],
      "metadata": {
        "id": "KOTsuAqprpgh"
      },
      "execution_count": null,
      "outputs": []
    },
    {
      "cell_type": "markdown",
      "source": [
        "The problem also tracks the current state of the optimization, e.g. number of evaluations done so far"
      ],
      "metadata": {
        "id": "wS7_3Su_sA89"
      }
    },
    {
      "cell_type": "code",
      "source": [
        "#Show the state of the optimization\n",
        "print(f.state)"
      ],
      "metadata": {
        "id": "tzWtk553rpiu"
      },
      "execution_count": null,
      "outputs": []
    },
    {
      "cell_type": "markdown",
      "source": [
        "And of course, the function can be evaluated easily:\n"
      ],
      "metadata": {
        "id": "v-fPF199sD0b"
      }
    },
    {
      "cell_type": "code",
      "source": [
        "#Evaluate the function\n",
        "f([0,0,0,0,0])"
      ],
      "metadata": {
        "id": "BhLB0k0Yrpk6"
      },
      "execution_count": null,
      "outputs": []
    },
    {
      "cell_type": "markdown",
      "source": [
        "## Running an algorithm"
      ],
      "metadata": {
        "id": "wve-zVHesFta"
      }
    },
    {
      "cell_type": "markdown",
      "source": [
        "To show how to use IOHexperimenter to run an algorithm on a built-in function, we can construct a simple random-search example wich accepts an IOHprofiler problem as its argument.\n"
      ],
      "metadata": {
        "id": "QVDowejPsVdg"
      }
    },
    {
      "cell_type": "code",
      "source": [
        "#Create a basic random search algorithm\n",
        "import ioh\n",
        "import numpy as np\n",
        "\n",
        "def random_search(problem: ioh.problem.Real, seed: int = 42, budget: int = None) -> ioh.RealSolution:\n",
        "    np.random.seed(seed)\n",
        "    \n",
        "    if budget is None:\n",
        "        budget = int(problem.meta_data.n_variables * 1e4)\n",
        "\n",
        "    for _ in range(budget):\n",
        "        x = np.random.uniform(problem.constraint.lb, problem.constraint.ub)\n",
        "        \n",
        "        # problem automatically tracks the current best search point\n",
        "        f = problem(x)\n",
        "        \n",
        "    return problem.state.current_best"
      ],
      "metadata": {
        "id": "gXZfyp_Hrpm-"
      },
      "execution_count": null,
      "outputs": []
    },
    {
      "cell_type": "markdown",
      "source": [
        "To record data, we need to add a logger to the problem\n"
      ],
      "metadata": {
        "id": "SHQ14JxHsXu5"
      }
    },
    {
      "cell_type": "code",
      "source": [
        "#Import the ioh logger module\n",
        "from ioh import logger"
      ],
      "metadata": {
        "id": "QOpmgadqsX3U"
      },
      "execution_count": null,
      "outputs": []
    },
    {
      "cell_type": "markdown",
      "source": [
        "Within IOHexperimenter, several types of logger are available. Here, we will focus on the default logger (called Analyzer as of version 0.32, Default for version 0.31 and earlier), as described [in this section](/data_format). Note that the logging can be customized by adding new triggers. Additionally, starting in version 0.32, the ability to store search points directly is added by using the store_positions-parameter. "
      ],
      "metadata": {
        "id": "jJ4hxQzhsX8S"
      }
    },
    {
      "cell_type": "code",
      "source": [
        "#Create default logger compatible with IOHanalyzer\n",
        "l = logger.Analyzer(root=\"data\", folder_name=\"run\", algorithm_name=\"random_search\", algorithm_info=\"test of IOHexperimenter in python\")"
      ],
      "metadata": {
        "id": "vPVrJNaVsYA2"
      },
      "execution_count": null,
      "outputs": []
    },
    {
      "cell_type": "markdown",
      "source": [
        "This can then be attached to the problem\n"
      ],
      "metadata": {
        "id": "8c0zjAKLsYFa"
      }
    },
    {
      "cell_type": "code",
      "source": [
        "#Add the logger to the problem\n",
        "f.attach_logger(l)"
      ],
      "metadata": {
        "id": "Bm3TLMD7sYKJ"
      },
      "execution_count": null,
      "outputs": []
    },
    {
      "cell_type": "markdown",
      "source": [
        "Now, we can run the algorithm. The logger will automatically store the relevant performance data."
      ],
      "metadata": {
        "id": "zGu4HchPsYO5"
      }
    },
    {
      "cell_type": "code",
      "source": [
        "random_search(f)\n"
      ],
      "metadata": {
        "id": "B-RSHZhosYTe"
      },
      "execution_count": null,
      "outputs": []
    },
    {
      "cell_type": "markdown",
      "source": [
        "For versions of ioh prior to 0.31, we need to explicitly ensure all data is written, so we should clear the logger after running our experiments. This is no longer be required after version 0.32."
      ],
      "metadata": {
        "id": "vpcQrcutsYat"
      }
    },
    {
      "cell_type": "code",
      "source": [
        "l.flush() #Not needed for versions >= 0.32"
      ],
      "metadata": {
        "id": "AhPDORl-sYgs"
      },
      "execution_count": null,
      "outputs": []
    },
    {
      "cell_type": "markdown",
      "source": [
        "## Tracking algorithm parameters"
      ],
      "metadata": {
        "id": "WuparFpGsn8A"
      }
    },
    {
      "cell_type": "markdown",
      "source": [
        "If we want to track adaptive parameters of the algorithm, we require an object in which the parameters of the algorithm are stored. In the below example, the random search algorithm is restructured into a class for this purpose. Alternatively, we could also create a seperate object which holds the parameters.\n"
      ],
      "metadata": {
        "id": "SkmwvPzbsoKB"
      }
    },
    {
      "cell_type": "code",
      "source": [
        "class RandomSearch:\n",
        "    def __init__(self, budget: int):\n",
        "        self._budget = budget\n",
        "        self.seed = np.random.get_state()[1][0]\n",
        "        self._rng = np.random.default_rng(self.seed)\n",
        "\n",
        "    def __call__(self, func: ioh.problem.Real):\n",
        "        for i in range(self._budget):\n",
        "            x = self._rng.uniform(func.constraint.lb, func.constraint.ub)\n",
        "            f = func(x)\n",
        "        #Set new seed for future runs        \n",
        "        self.seed = np.random.get_state()[1][0]\n",
        "        self._rng = np.random.default_rng(self.seed)\n",
        "        return\n",
        "    \n",
        "    @property\n",
        "    def param_rate(self) -> int:\n",
        "        return np.random.randint(100)\n",
        "\n",
        "    \n",
        "#create an instance of this algorithm\n",
        "o = RandomSearch(1000)"
      ],
      "metadata": {
        "id": "ROp-hl4rsr1E"
      },
      "execution_count": null,
      "outputs": []
    },
    {
      "cell_type": "markdown",
      "source": [
        "We can then identify three different levels at which to track parameters:"
      ],
      "metadata": {
        "id": "XU9ZZtsSss3x"
      }
    },
    {
      "cell_type": "markdown",
      "source": [
        "### Tracking adaptive parameters"
      ],
      "metadata": {
        "id": "hhpWO1O2ss-5"
      }
    },
    {
      "cell_type": "markdown",
      "source": [
        "The first type of parameters are the most common: parameters which we want to track during the search procedure, e.g. an adaptive stepsize. To track this type of parameter, we can make use of the 'watch' function of the logger as follows:"
      ],
      "metadata": {
        "id": "2jbBYIGHs0Ag"
      }
    },
    {
      "cell_type": "code",
      "source": [
        "l.watch(o, ['param_rate'])\n"
      ],
      "metadata": {
        "id": "NuvsFxyds1ll"
      },
      "execution_count": null,
      "outputs": []
    },
    {
      "cell_type": "markdown",
      "source": [
        "### Tracking run parameters\n"
      ],
      "metadata": {
        "id": "oEri9Qt7s2I9"
      }
    },
    {
      "cell_type": "markdown",
      "source": [
        "The second type of parameter is a per-run parameter. This can be something like the used random seed. To track this, we can use the following:\n"
      ],
      "metadata": {
        "id": "CyjMvtaHs2LE"
      }
    },
    {
      "cell_type": "code",
      "source": [
        "l.add_run_attributes(o, ['seed'])"
      ],
      "metadata": {
        "id": "xqmQIF8As2sz"
      },
      "execution_count": null,
      "outputs": []
    },
    {
      "cell_type": "markdown",
      "source": [
        "### Tracking experiment parameters\n"
      ],
      "metadata": {
        "id": "8Dzopu8fs21c"
      }
    },
    {
      "cell_type": "markdown",
      "source": [
        "The final type of parameters to track is the most high-level. This can be for example static algorithm parameters or other information about the experiment, which can be added as follows:"
      ],
      "metadata": {
        "id": "MRO2BuT1s23f"
      }
    },
    {
      "cell_type": "code",
      "source": [
        "l.add_experiment_attribute('budget', '1000')\n"
      ],
      "metadata": {
        "id": "-AAn7aL6s2-9"
      },
      "execution_count": null,
      "outputs": []
    },
    {
      "cell_type": "markdown",
      "source": [
        "Note: The methods for tracking parameters, e.g. `watch`, `add_run_attributes` and `add_experiment_attribute` can only be called before `f.attach_logger(l)` is called. Otherwise, the function will have no effect. \n"
      ],
      "metadata": {
        "id": "L7FfVwJYtABK"
      }
    },
    {
      "cell_type": "markdown",
      "source": [
        "## Using the experimenter module\n"
      ],
      "metadata": {
        "id": "xf91pZ36tDiB"
      }
    },
    {
      "cell_type": "markdown",
      "source": [
        "In addition to creating each problem individually, we can make use of the built-in experimenter module, which can be imported as follows:"
      ],
      "metadata": {
        "id": "WSn2ZFpitFSf"
      }
    },
    {
      "cell_type": "code",
      "source": [
        "from ioh import Experiment\n"
      ],
      "metadata": {
        "id": "eSVTFTxStGXo"
      },
      "execution_count": null,
      "outputs": []
    },
    {
      "cell_type": "code",
      "source": [
        "?Experiment"
      ],
      "metadata": {
        "id": "0j8nUH00tpRI"
      },
      "execution_count": null,
      "outputs": []
    },
    {
      "cell_type": "markdown",
      "source": [
        "At its core, the Experimenter object contains three parts: \n",
        "- An optimization algorithm (which takes a ioh-based problem as input)\n",
        "- Information on the collection of problems to be executed\n",
        "- Information on the logging procedure\n",
        "\n",
        "The suite object can be created using the suite-module from ioh as follows:\n"
      ],
      "metadata": {
        "id": "NrYl1dovtJfE"
      }
    },
    {
      "cell_type": "code",
      "source": [
        "exp = Experiment(algorithm = o, #Set the optimization algorithm\n",
        "fids = [1,2,3], iids = [1,2,3,4,5], dims = [5,10], reps = 5, problem_type = 'BBOB', #Problem definitions\n",
        "njobs = 4, #Enable paralellization\n",
        "logged = True, folder_name = 'IOH_data', algorithm_name = 'Random_Search', store_positions = True, #Logging specifications\n",
        "experiment_attributes = {'budget' : '1000'}, run_attributes = ['seed'], logged_attributes = ['param_rate'], #Attribute tracking\n",
        "merge_output = True, zip_output = True, remove_data = True #Only keep data as a single zip-file\n",
        ")\n"
      ],
      "metadata": {
        "id": "uNCYueYhtLOu"
      },
      "execution_count": null,
      "outputs": []
    },
    {
      "cell_type": "markdown",
      "source": [
        "This can be run as follows:\n"
      ],
      "metadata": {
        "id": "62bbdIHatL0O"
      }
    },
    {
      "cell_type": "code",
      "source": [
        "exp.run()\n"
      ],
      "metadata": {
        "id": "AezL5TR3tME8"
      },
      "execution_count": null,
      "outputs": []
    },
    {
      "cell_type": "markdown",
      "source": [
        "## Using custom functions\n"
      ],
      "metadata": {
        "id": "6oKQ3HyktOW5"
      }
    },
    {
      "cell_type": "markdown",
      "source": [
        "In addition to the interfaces to the built-in functions, IOHexperimenter provides an easy way to wrap any problem into the same ioh-problem structure for easy use with the logging and experiment modules. This can be done using the 'wrap_real_problem' and 'wrap_integer_problem' functions. An example is shown here:"
      ],
      "metadata": {
        "id": "7gwNcw5EtOZQ"
      }
    },
    {
      "cell_type": "code",
      "source": [
        "from ioh import problem, OptimizationType\n",
        "\n",
        "#Define an evaluation method\n",
        "def f_custom(x):\n",
        "    return np.sum(x)\n",
        "#Call the wrapper\n",
        "problem.wrap_real_problem(f_custom, \"custom_name\",  optimization_type=OptimizationType.Minimization)\n",
        "\n",
        "#Call get_problem to instantiate a version of this problem\n",
        "f = get_problem('custom_name', instance=0, dimension=5)"
      ],
      "metadata": {
        "id": "JgqAoe7otSeJ"
      },
      "execution_count": null,
      "outputs": []
    },
    {
      "cell_type": "markdown",
      "source": [
        "Note that you can also add function transformations based on the instance id, for example as follows:"
      ],
      "metadata": {
        "id": "y8HtUsIrtS_O"
      }
    },
    {
      "cell_type": "code",
      "source": [
        "# Transformation function of x-attributes based on the instance id (numeric, default is 0). Note that argument order is fixed, but names are flexible.\n",
        "def transorm_vars(x, instance):\n",
        "    x[1] += instance\n",
        "    return x\n",
        "\n",
        "# Transformation function of x-attributes based on the instance id (numeric, default is 0). Note that argument order is fixed, but names are flexible.\n",
        "def transorm_obj(y, instance):\n",
        "    return y * instance\n",
        "\n",
        "# Function to calculate the objective (both x and corresponding objective value) based on the instance id (numeric, default is 0). Note that argument order is fixed, but names are flexible.\n",
        "def calc_obj(instance, dimension):\n",
        "    return [instance]*dimension, instance\n",
        "\n",
        "\n",
        "#We can then add these transformations when wrapping the problem:\n",
        "problem.wrap_real_problem(f_custom, name=\"custom_name2\",\n",
        "optimization_type=OptimizationType.Minimization, \n",
        "         transform_variables=transorm_vars, transform_objectives=transorm_obj, \n",
        "         calculate_objective=calc_obj)"
      ],
      "metadata": {
        "id": "oAwpGC3MtUki"
      },
      "execution_count": null,
      "outputs": []
    },
    {
      "cell_type": "code",
      "source": [
        "f = get_problem('custom_name2', instance=3, dimension=10)\n"
      ],
      "metadata": {
        "id": "Wapu9lTftWzt"
      },
      "execution_count": null,
      "outputs": []
    },
    {
      "cell_type": "markdown",
      "source": [
        "When using custom problems, they can be used with the Experiment class just the same as pre-defined functions. Note that you can see the function id as follows:"
      ],
      "metadata": {
        "id": "hkCvzsOptZoL"
      }
    },
    {
      "cell_type": "code",
      "source": [
        "f.meta_data.problem_id\n"
      ],
      "metadata": {
        "id": "KLISBRzUta-6"
      },
      "execution_count": null,
      "outputs": []
    },
    {
      "cell_type": "code",
      "source": [
        "exp = Experiment(algorithm = o, #Set the optimization algorithm\n",
        "fids = [1,25], iids = [0], dims = [5,10], reps = 5, problem_type = 'BBOB', #Problem definitions\n",
        "njobs = 4, #Enable paralellization\n",
        "logged = True, folder_name = 'IOH_data', algorithm_name = 'Random_Search', store_positions = True, #Logging specifications\n",
        "experiment_attributes = {'budget' : '1000'}, run_attributes = ['seed'], logged_attributes = ['param_rate'], #Attribute tracking\n",
        "merge_output = True, zip_output = True, remove_data = True #Only keep data as a single zip-file"
      ],
      "metadata": {
        "id": "Yf-r8_lWtcsw"
      },
      "execution_count": null,
      "outputs": []
    },
    {
      "cell_type": "markdown",
      "source": [
        "Alternatively, we can use custom problems without first wrapping them, by using the 'add_custom_problem' function of Experiment:"
      ],
      "metadata": {
        "id": "9AAMuWqytf59"
      }
    },
    {
      "cell_type": "code",
      "source": [
        "exp = ioh.Experiment(0, fids=[], iids=[1], dims=[10], njobs=4)\n",
        "    exp.add_custom_problem(problem, \"problem\", \n",
        "         transform_variables=tx, transform_objectives=ty, calculate_objective=co)\n",
        "    exp.run()"
      ],
      "metadata": {
        "id": "Y_Lu7b3KtfB8"
      },
      "execution_count": null,
      "outputs": []
    },
    {
      "cell_type": "markdown",
      "source": [
        "## Using the W-model functions\n"
      ],
      "metadata": {
        "id": "SbUuEuzithyr"
      }
    },
    {
      "cell_type": "markdown",
      "source": [
        "In addition to the PBO and BBOB functions, the W-model problem generators (one based on OneMax and one based on LeadingOnes) are also avalable. \n"
      ],
      "metadata": {
        "id": "TmE2KMXMth3J"
      }
    },
    {
      "cell_type": "code",
      "source": [
        "?problem.WModelOneMax\n"
      ],
      "metadata": {
        "id": "4HupVvm1tn3c"
      },
      "execution_count": null,
      "outputs": []
    },
    {
      "cell_type": "code",
      "source": [
        "f = problem.WModelLeadingOnes(instance = 1, n_variables = 100, dummy_select_rate = 0.5, epistasis_block_size = 1, neutrality_mu = 0, ruggedness_gamma = 0 )"
      ],
      "metadata": {
        "id": "kMlrmSyOtlzv"
      },
      "execution_count": null,
      "outputs": []
    }
  ]
}